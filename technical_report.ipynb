{
 "cells": [
  {
   "cell_type": "markdown",
   "id": "e18dd210",
   "metadata": {},
   "source": [
    "## Technical Report Document"
   ]
  }
 ],
 "metadata": {
  "kernelspec": {
   "display_name": "microsoft-azure-predictive-maintenance",
   "language": "python",
   "name": "python3"
  },
  "language_info": {
   "name": "python",
   "version": "3.13.5"
  }
 },
 "nbformat": 4,
 "nbformat_minor": 5
}
